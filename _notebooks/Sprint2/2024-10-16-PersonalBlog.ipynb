{
 "cells": [
  {
   "cell_type": "raw",
   "metadata": {
    "vscode": {
     "languageId": "raw"
    }
   },
   "source": [
    "---\n",
    "layout: post\n",
    "types: hacks\n",
    "title: Manahil Khan's Sprint 2 Personal Blog\n",
    "description: A summary of what I team have learned!\n",
    "toc: true\n",
    "comments: true\n",
    "permalink: /sprint2/accomplishments\n",
    "---"
   ]
  },
  {
   "cell_type": "markdown",
   "metadata": {},
   "source": [
    "<table>\n",
    "    <tr>\n",
    "        <td><a href=\"{{site.baseurl}}/sprint2/accomplishments\">Home</a></td>\n",
    "        <td><a href=\"https://nighthawkcoders.github.io/portfolio_2025/csp/big-idea/p1/3-10\">3.10 Lesson</a></td>\n",
    "        <td><a href=\"{{site.baseurl}}/bigideas/3/hacks\">Lesson Hacks</a></td>\n",
    "    </tr>\n",
    "</table>"
   ]
  },
  {
   "cell_type": "markdown",
   "metadata": {},
   "source": [
    "## What I Taught!"
   ]
  },
  {
   "cell_type": "markdown",
   "metadata": {},
   "source": [
    "My group taught lesson 3.10 which was all about lists. We explained different aspects such as how to create a list, append elements, remove elements, delete elements, and much more. We also went over how to find the sum of values in a list and the minimum and maximum values. We showed all of this in Python as well as JavaScript."
   ]
  },
  {
   "cell_type": "markdown",
   "metadata": {},
   "source": [
    "## What I learned"
   ]
  },
  {
   "cell_type": "markdown",
   "metadata": {},
   "source": [
    "Through teaching these lessons, I learned a lot about my own topic as well as others. Since we had to teach it ourselves it made us have to get a deeper understanding of the topic so we could explain it well. It also helped me with my presenting and colaborating skills since I had to work with my team to overcome issues. Our pull requests got denied many times so we had to go through our code and figure our how to fix it. I learned many new things through these lessons such as more about lists, booleans, conditionals, iterations, loops, and more. For example, through lesson 3.1 I learned about defining variables and strings and their operations. For lesson 3.3 I learnt about mathematical expressions involving arithmetic operations. For lesson 3.6 I learned about conditionals and if then statments. My work was genuine because I did all of the popcorn and homework hacks and if there was a challenge hack I tried to do taht too. Instead of copy pasting the examples, I actually went through the code and tried understanding it. It was also very important to listen to the groups and even go back through their lessons to further your understandig. Through this experience, I learned that collaboration was a key part since if we did not work together, we would have taken a lot longer to overcome our problems. My future goals are to try to get my work done right away rather than procrasoanting and feeling pressure before its due. "
   ]
  }
 ],
 "metadata": {
  "language_info": {
   "name": "python"
  }
 },
 "nbformat": 4,
 "nbformat_minor": 2
}
