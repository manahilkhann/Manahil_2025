{
 "cells": [
  {
   "cell_type": "raw",
   "metadata": {
    "vscode": {
     "languageId": "raw"
    }
   },
   "source": [
    "---\n",
    "layout: post\n",
    "types: hacks\n",
    "title: Manahil Khan's Sprint 2 Personal Blog\n",
    "description: A summary of what I team have learned!\n",
    "toc: true\n",
    "comments: true\n",
    "---"
   ]
  },
  {
   "cell_type": "markdown",
   "metadata": {},
   "source": [
    "## What I Taught!"
   ]
  },
  {
   "cell_type": "markdown",
   "metadata": {},
   "source": [
    "My group taught lesson 3.10 which was all about lists. We explained different aspects such as how to create a list, append elements, remove elements, delete elements, and much more. We also went over how to find the sum of values in a list and the minimum and maximum values. We showed all of this in Python as well as JavaScript."
   ]
  },
  {
   "cell_type": "markdown",
   "metadata": {},
   "source": [
    "## What I learned"
   ]
  },
  {
   "cell_type": "markdown",
   "metadata": {},
   "source": []
  }
 ],
 "metadata": {
  "language_info": {
   "name": "python"
  }
 },
 "nbformat": 4,
 "nbformat_minor": 2
}
