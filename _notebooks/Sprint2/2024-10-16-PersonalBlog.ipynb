{
 "cells": [
  {
   "cell_type": "raw",
   "metadata": {
    "vscode": {
     "languageId": "raw"
    }
   },
   "source": [
    "---\n",
    "layout: post\n",
    "types: hacks\n",
    "title: Manahil Khan's Sprint 2 Personal Blog\n",
    "description: A summary of what I team have learned!\n",
    "toc: true\n",
    "comments: true\n",
    "permalink: /sprint2/accomplishments\n",
    "---"
   ]
  },
  {
   "cell_type": "markdown",
   "metadata": {},
   "source": [
    "<table>\n",
    "    <tr>\n",
    "        <td><a href=\"{{site.baseurl}}/sprint2/accomplishments\">Home</a></td>\n",
    "        <td><a href=\"https://nighthawkcoders.github.io/portfolio_2025/csp/big-idea/p1/3-10\">3.10 Lesson</a></td>\n",
    "        <td><a href=\"{{site.baseurl}}/bigideas/3/hacks\">Lesson Hacks</a></td>\n",
    "    </tr>\n",
    "</table>"
   ]
  },
  {
   "cell_type": "markdown",
   "metadata": {},
   "source": [
    "## What I Taught!"
   ]
  },
  {
   "cell_type": "markdown",
   "metadata": {},
   "source": [
    "My group taught lesson 3.10 which was all about lists. We explained different aspects such as how to create a list, append elements, remove elements, delete elements, and much more. We also went over how to find the sum of values in a list and the minimum and maximum values. We showed all of this in Python as well as JavaScript."
   ]
  },
  {
   "cell_type": "markdown",
   "metadata": {},
   "source": [
    "## What I learned"
   ]
  },
  {
   "cell_type": "markdown",
   "metadata": {},
   "source": [
    "I learned many new things through these lessons. For one "
   ]
  }
 ],
 "metadata": {
  "language_info": {
   "name": "python"
  }
 },
 "nbformat": 4,
 "nbformat_minor": 2
}
