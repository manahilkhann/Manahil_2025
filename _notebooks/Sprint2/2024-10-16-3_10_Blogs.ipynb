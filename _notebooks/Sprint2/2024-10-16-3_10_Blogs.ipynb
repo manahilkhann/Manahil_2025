{
 "cells": [
  {
   "cell_type": "raw",
   "metadata": {
    "vscode": {
     "languageId": "raw"
    }
   },
   "source": [
    "---\n",
    "layout: post\n",
    "types: hacks\n",
    "title: 3.10 Blog\n",
    "description: A summary of what our team has learned!\n",
    "toc: true\n",
    "comments: true\n",
    "---"
   ]
  },
  {
   "cell_type": "markdown",
   "metadata": {},
   "source": [
    "- Manahil: https://manahilkhann.github.io/manahil_khan_2025/2024/10/16/PersonalBlog_IPYNB_2_.html\n",
    "- Carson:\n",
    "- Jackson: https://jacksonh24.github.io/jackson_2025/Sprint_2/\n",
    "- Brandon: https://brandonsmurlo.github.io/BrandonSmurlo_website/blog/"
   ]
  }
 ],
 "metadata": {
  "language_info": {
   "name": "python"
  }
 },
 "nbformat": 4,
 "nbformat_minor": 2
}
