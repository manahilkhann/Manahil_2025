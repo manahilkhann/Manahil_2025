{
 "cells": [
  {
   "cell_type": "raw",
   "metadata": {
    "vscode": {
     "languageId": "raw"
    }
   },
   "source": [
    "---\n",
    "layout: post\n",
    "types: hacks\n",
    "title: Lesson Hacks\n",
    "description: All of my unit 3 hacks!\n",
    "toc: true\n",
    "comments: true\n",
    "permalink: /bigideas/3/hacks\n",
    "---"
   ]
  },
  {
   "cell_type": "markdown",
   "metadata": {},
   "source": [
    "<table>\n",
    "    <tr>\n",
    "        <td><a href=\"{{site.baseurl}}/3-1/hacks\">3.1 Hacks</a></td>\n",
    "        <td><a href=\"{{site.baseurl}}/3-2/hacks\">3.2 Hacks</a></td>\n",
    "        <td><a href=\"{{site.baseurl}}/3-3/hacks\">3.3 Hacks</a></td>\n",
    "        <td><a href=\"{{site.baseurl}}/3-4/hacks\">3.4 Hacks</a></td>\n",
    "        <td><a href=\"{{site.baseurl}}/3-5/hacks\">3.5 Hacks</a></td>\n",
    "        <td><a href=\"{{site.baseurl}}/3-6/hacks\">3.6 Hacks</a></td>\n",
    "        <td><a href=\"{{site.baseurl}}/3-7/hacks\">3.7 Hacks</a></td>\n",
    "        <td><a href=\"{{site.baseurl}}/3-8/hacks\">3.8 Hacks</a></td>\n",
    "    </tr>\n",
    "</table>"
   ]
  }
 ],
 "metadata": {
  "language_info": {
   "name": "python"
  }
 },
 "nbformat": 4,
 "nbformat_minor": 2
}
