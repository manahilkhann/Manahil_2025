{
 "cells": [
  {
   "cell_type": "markdown",
   "metadata": {},
   "source": [
    "---\n",
    "layout: post\n",
    "types: hacks\n",
    "title: MCQ and Sprint 3 review\n",
    "description: A review of the MC and Sprint 3\n",
    "toc: true\n",
    "comments: true\n",
    "---"
   ]
  },
  {
   "cell_type": "markdown",
   "metadata": {},
   "source": [
    "# MCQ Review\n",
    "\n",
    "<img src=\"{{site.baseurl}}/images/mcq.png\" width=\"500\">\n",
    "\n",
    "I got a 61/66 on the MCQ review. \n",
    "\n",
    "I think this does a decent job reflecting my understanding, however since I worked with people I feel that made me get a beter grade than I would have got if I worked myself.\n",
    "\n",
    "The content and skills I need to work on are:\n",
    "- 2.2: Data Compression (67%)\n",
    "- 3.5: Boolean Expressions (33%)\n",
    "- 3.16: Simulations (50%)\n",
    "- 3.17: Algorithmic Efficiency (50%)\n",
    "\n",
    "# How to Improve\n",
    "\n",
    "To improve I will go over the AP classroom videos, specifically on the topics of \"Data Compression\", \"Boolean Expressions\", \"Simulations\", and \"Algorithmic Efficiency\". I will also go through the MC again to make sure I thoroughly understand each topic and practice different questions similar to those.\n",
    "\n",
    "# Questions wrong\n",
    "\n",
    "- #18\n",
    "\n",
    "<img src=\"{{site.baseurl}}/images/q18.png\" alt=\"Question 18\" width=\"500\">\n",
    "\n",
    "This question is asking which way is the LEAST helpful to get a more accurate prediction of a populations number of births. The correct answer being \"Removing as many details from the model as possible so that calculations can be performed quickly\" makes sense since this does not give you more accurate data, instead it just speeds up the task. I got this wrong because I didn't notice the \"LEAST\" so my answer reflected a way that WAS helpful to getting a more accurate prediction.\n",
    "\n",
    "- #24\n",
    "\n",
    "<img src=\"{{site.baseurl}}/images/q24.png\" alt=\"Question 24\" width=\"500\">\n",
    "\n",
    "This question is about byte pair encoding. It gives 4 different statements and asks which one is correct. The correct answer would be \"Byte pair encoding is an example of a lossless transformation because an encoded string can be restored to its original version.\" This is because byte pair encoding can replace letters with corresponding characters not already in the code. However, you can still restore the original version making it a lossless transformation. My answer mentioned that it was a \"lossy transformation\" which is incorrect because by being able to restore the original versions, there is no data getting lost.\n",
    "\n",
    "- #33\n",
    "\n",
    "<img src=\"{{site.baseurl}}/images/q33.png\" alt=\"Question 33\" width=\"500\">\n",
    "\n",
    "This question was about flowcharts and algorithms. The correct answer was \"Include <-- (floor greater than 10) OR (bedrooms = 3)\". This was the correct answer because according to the flowchart it would only be one or the other, it could not include BOTH (floor greater than 10) AND (bedrooms = 3). It also would not be (floor is less than or eqaul to 10) because in the flowchart it only says (floor is greater than 10). I got this wrong because I put \"Include <-- (floor greater than 10) AND (bedrooms = 3)\" which does not correctly set up with true in cases where only one condition is true.\n",
    "\n",
    "- #43\n",
    "\n",
    "<img src=\"{{site.baseurl}}/images/q43.png\" alt=\"Question 43\" width=\"500\">\n",
    "\n",
    "For this question I was unsure as to what the time of the algorithm was or why it was important. I understood that it was a running algorithm but still dont understand what the reasonable and unreasonable time is.\n",
    "\n",
    "- #45\n",
    "\n",
    "<img src=\"{{site.baseurl}}/images/q45.png\" alt=\"Question 45\" width=\"500\">\n",
    "\n",
    "This one I got wrong because I didn't keep P & Q as one singular input. In the answer I chose \"(NOT P) AND (NOT Q)\" the two would differ in values."
   ]
  },
  {
   "cell_type": "markdown",
   "metadata": {},
   "source": [
    "# Sprint 3 Review"
   ]
  },
  {
   "cell_type": "markdown",
   "metadata": {
    "vscode": {
     "languageId": "javascript"
    }
   },
   "source": [
    "<img src=\"{{site.baseurl}}/images/Sprint3code.png\" alt=\"Sprint 3 code\" width=\"500\">"
   ]
  }
 ],
 "metadata": {
  "language_info": {
   "name": "python"
  }
 },
 "nbformat": 4,
 "nbformat_minor": 2
}
