{
 "cells": [
  {
   "cell_type": "markdown",
   "metadata": {},
   "source": [
    "---\n",
    "layout: post\n",
    "types: hacks\n",
    "title: MCQ and Sprint 3 review\n",
    "description: A review of the MC and Sprint 3\n",
    "toc: true\n",
    "comments: true\n",
    "---"
   ]
  },
  {
   "cell_type": "markdown",
   "metadata": {},
   "source": [
    "# Sprint 3 Review\n",
    "In Sprint 3 I worked on the frontend and styled our page. I added buttons and links to different parts of the page. I helped my team brainstorm different ideas on what to add to our music page. For example, we added different aspects such as a chat room."
   ]
  },
  {
   "cell_type": "markdown",
   "metadata": {},
   "source": [
    "# MCQ Review\n",
    "\n",
    "<img src=\"mcq.png\" alt=\"I got a 61/66 on the MCQ review.\" width=\"500\">\n",
    "\n",
    "I got a 61/66 on the MCQ review. \n",
    "\n",
    "I think this does a decent job reflecting my understanding, however since I worked with people I feel that made me get a beter grade than I would have got if I worked myself.\n",
    "\n",
    "The content and skills I need to work on are:\n",
    "- 3.5: Boolean Expressions (33%)\n",
    "- 3.16: Simulations (50%)\n",
    "- 3.17: Algorithmic Efficiency (50%)"
   ]
  },
  {
   "cell_type": "markdown",
   "metadata": {},
   "source": []
  }
 ],
 "metadata": {
  "language_info": {
   "name": "python"
  }
 },
 "nbformat": 4,
 "nbformat_minor": 2
}
