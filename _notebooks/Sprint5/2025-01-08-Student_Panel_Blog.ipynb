{
 "cells": [
  {
   "cell_type": "markdown",
   "metadata": {
    "vscode": {
     "languageId": "plaintext"
    }
   },
   "source": [
    "---\n",
    "layout: post\n",
    "types: hacks\n",
    "title: Student Panel Blog\n",
    "description: What I learned and took away from the student panel!\n",
    "toc: true\n",
    "comments: true\n",
    "---"
   ]
  },
  {
   "cell_type": "markdown",
   "metadata": {},
   "source": [
    "This panel gave me a deeper insight to what it would be like to pursue Computer Science in college. The students gave me valuable info and tips to succeed with the subject in highschool as well as in the future. They made the point that collaboraiton and organization taught in this class will be crucial for future opportunities. By collaborating with students in our group we can further our own learning by putting multiple brains together. Additionally organization through GitHub it will help me access my files and code easier and collaborate. One way to do this is flowcharts for project planning. I also learned that I should comment my code line by line so that I can make sure to actually understand what I'm doing and minimize mistakes. I think this was a very important part because I sometimes struggle to fully understand each function and part of my code. Also writing clear commit messages will help my team keep up with what I am doing in my code. Lastly I learned that internships are a great way to get myself into the feild and get a real life feel of that kind of life. \n",
    "\n",
    "# Proof of being there\n",
    "<span>\n",
    "<img src=\"{{site.baseurl}}images/StudentPanel.png\" width = \"500\" height = \"300\"/>\n",
    "</span> \n",
    "\n",
    "## Key Takeaways\n",
    "- Collaboration and communication is key \n",
    "- Comment your code line by line to help understand\n",
    "- Find internships to get more experience\n",
    "- Structured planning (flowcharts, notebooks, etc)\n",
    "- Organized workspace \n",
    "- Mr. Mort has some valuable lessons in these projects that will help with future jobs."
   ]
  }
 ],
 "metadata": {
  "language_info": {
   "name": "python"
  }
 },
 "nbformat": 4,
 "nbformat_minor": 2
}
