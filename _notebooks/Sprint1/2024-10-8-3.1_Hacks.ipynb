{
 "cells": [
  {
   "cell_type": "raw",
   "metadata": {
    "vscode": {
     "languageId": "raw"
    }
   },
   "source": [
    "---\n",
    "layout: post\n",
    "types: hacks\n",
    "title: 3.1 Hacks!\n",
    "description: 3.1 Popcorn and Homework Hacks\n",
    "toc: true\n",
    "comments: true\n",
    "---"
   ]
  },
  {
   "cell_type": "markdown",
   "metadata": {},
   "source": [
    "## Popcorn Hack"
   ]
  },
  {
   "cell_type": "code",
   "execution_count": null,
   "metadata": {},
   "outputs": [],
   "source": [
    "# python version\n",
    "var1 = input(\"What is your name?:\")\n",
    "var2 = input(\"What grade are you in?:\")\n",
    "var3 = input(\"What is your favorite subject?:\")\n",
    "var4 = input(\"What is your dream job?:\")\n",
    "\n",
    "my_list = [var1, var2, var3, var4]\n",
    "\n",
    "my_dict = {\n",
    "    var1,\n",
    "    var2,\n",
    "    var3,\n",
    "    var4\n",
    "}\n",
    "\n",
    "print(my_list)\n",
    "print(my_dict)\n",
    "\n",
    "print(\"Hi my name is \" + var1 + \", I'm in\" +  var2 + \"grade\" + \", my favorite subject is\" + var3, \", and my dream job is\" + var4)"
   ]
  },
  {
   "cell_type": "code",
   "execution_count": null,
   "metadata": {
    "vscode": {
     "languageId": "javascript"
    }
   },
   "outputs": [],
   "source": [
    "%%js \n",
    "// javascript version\n",
    "const var1 = prompt(\"What is your name?:\");\n",
    "const var2 = prompt(\"What grade are you in?:\");\n",
    "const var3 = prompt(\"What is your favorite subject?:\");\n",
    "const var4 = prompt(\"What is your dream job?:\");\n",
    "\n",
    "\n",
    "const myList = [var1, var2, var3, var4];\n",
    "console.log(myList);\n",
    "\n",
    "\n",
    "const myDict = {\n",
    "    name: var1,\n",
    "    grade: var2,\n",
    "    favoriteSubject: var3,\n",
    "    dreamJob: var4,\n",
    "};\n",
    "console.log(myDict);\n",
    "\n",
    "\n",
    "console.log(\"Hi my name is \" + var1 + \", I'm in\" +  var2 + \"grade\" + \", my favorite subject is\" + var3, \", and my dream job is\" + var4 + \".\");"
   ]
  },
  {
   "cell_type": "markdown",
   "metadata": {},
   "source": [
    "## Homework Hack"
   ]
  },
  {
   "cell_type": "code",
   "execution_count": null,
   "metadata": {
    "vscode": {
     "languageId": "javascript"
    }
   },
   "outputs": [],
   "source": [
    "class UserProfile {\n",
    "    constructor(fullName, age, email, hobby, dietaryPreferences) {\n",
    "        this.fullName = fullName;\n",
    "        this.age = age;\n",
    "        this.email = email;\n",
    "        this.hobby = hobby;\n",
    "        this.dietaryPreferences = dietaryPreferences;\n",
    "        this.uniqueID = this.generateUniqueID();\n",
    "    }\n",
    "\n",
    "    // Unique ID generation method\n",
    "    generateUniqueID() {\n",
    "        const timestamp = Date.now().toString(36); // Convert timestamp to base-36\n",
    "        const randomNum = Math.floor(Math.random() * 1000).toString(36); // Random number in base-36\n",
    "        return `${this.fullName.split(' ').join('').toUpperCase()}${timestamp}${randomNum}`;\n",
    "    }\n",
    "\n",
    "    // Method to display profile information\n",
    "    displayProfile() {\n",
    "        console.log(\"User Profile Details:\");\n",
    "        console.log(`Full Name: ${this.fullName}`);\n",
    "        console.log(`Age: ${this.age}`);\n",
    "        console.log(`Email: ${this.email}`);\n",
    "        console.log(`Hobby: ${this.hobby}`);\n",
    "        console.log(`Dietary Preferences: ${this.dietaryPreferences}`);\n",
    "        console.log(`Unique ID: ${this.uniqueID}`);\n",
    "    }\n",
    "}\n",
    "\n",
    "// Create a user profile with the provided information\n",
    "const userProfile = new UserProfile(\n",
    "    \"John Doe\",\n",
    "    28,\n",
    "    \"john.doe@gmail.com\",\n",
    "    \"Food Tasting\",\n",
    "    \"Vegan\"\n",
    ");\n",
    "\n",
    "// Display the user profile\n",
    "userProfile.displayProfile();"
   ]
  }
 ],
 "metadata": {
  "language_info": {
   "name": "python"
  }
 },
 "nbformat": 4,
 "nbformat_minor": 2
}
