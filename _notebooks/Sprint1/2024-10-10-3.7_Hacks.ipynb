{
 "cells": [
  {
   "cell_type": "raw",
   "metadata": {
    "vscode": {
     "languageId": "raw"
    }
   },
   "source": [
    "---\n",
    "layout: post\n",
    "types: hacks\n",
    "title: 3.7 Hacks!\n",
    "description: 3.7 Popcorn and Homework Hacks\n",
    "toc: true\n",
    "comments: true\n",
    "permalink: /3-7/hacks\n",
    "---"
   ]
  },
  {
   "cell_type": "markdown",
   "metadata": {},
   "source": [
    "## Popcorn Hack #1\n",
    "`if` `else` statments in python"
   ]
  },
  {
   "cell_type": "code",
   "execution_count": null,
   "metadata": {},
   "outputs": [],
   "source": [
    "score = 85\n",
    "\n",
    "if score >= 90:\n",
    "    print(\"A\")\n",
    "else:\n",
    "    if score >= 80:\n",
    "        print(\"B\")\n",
    "    else:\n",
    "        if score >= 70:\n",
    "            print(\"C\")\n",
    "        else:\n",
    "            if score >= 60:\n",
    "                print(\"D\")\n",
    "            else:\n",
    "                print(\"F\")"
   ]
  },
  {
   "cell_type": "markdown",
   "metadata": {},
   "source": [
    "## Popcorn Hack #2\n",
    "Iis eligible for a loan based on their credit score and income:"
   ]
  },
  {
   "cell_type": "code",
   "execution_count": null,
   "metadata": {},
   "outputs": [],
   "source": [
    "credit_score = 750\n",
    "income = 60000\n",
    "\n",
    "if credit_score >= 700:\n",
    "    if income >= 50000:\n",
    "        print(\"Eligible for loan\")\n",
    "    else:\n",
    "        print(\"Not eligible for loan due to low income\")\n",
    "else:\n",
    "    print(\"Not eligible for loan due to low credit score\")"
   ]
  },
  {
   "cell_type": "markdown",
   "metadata": {},
   "source": [
    "## Popcorn Hack #3 in pseudocode"
   ]
  },
  {
   "cell_type": "markdown",
   "metadata": {},
   "source": [
    "IF is_member = TRUE\n",
    "{\n",
    "    IF purchase_amount > 100\n",
    "    {\n",
    "        DISPLAY \"20% discount\"\n",
    "    }\n",
    "    ELSE\n",
    "    {\n",
    "        DISPLAY \"10% discount\"\n",
    "    }\n",
    "}\n",
    "ELSE\n",
    "{\n",
    "    IF purchase_amount > 100\n",
    "    {\n",
    "        DISPLAY \"5% discount\"\n",
    "    }\n",
    "    ELSE\n",
    "    {\n",
    "        DISPLAY \"No discount\"\n",
    "    }\n",
    "}"
   ]
  },
  {
   "cell_type": "markdown",
   "metadata": {},
   "source": [
    "## Homework Hack"
   ]
  },
  {
   "cell_type": "markdown",
   "metadata": {},
   "source": [
    "Write pseudocode to determine if a student passes a class based on their exam scores and attendance using nested conditionals."
   ]
  },
  {
   "cell_type": "markdown",
   "metadata": {},
   "source": [
    "BEGIN\n",
    "    INPUT examScore\n",
    "    INPUT attendancePercentage\n",
    "\n",
    "    IF examScore >= 60 THEN\n",
    "        IF attendancePercentage >= 75 THEN\n",
    "            PRINT \"Student passes the class.\"\n",
    "        ELSE\n",
    "            PRINT \"Student fails due to low attendance.\"\n",
    "        ENDIF\n",
    "    ELSE\n",
    "        PRINT \"Student fails due to low exam score.\"\n",
    "    ENDIF\n",
    "END"
   ]
  },
  {
   "cell_type": "markdown",
   "metadata": {},
   "source": [
    "Write a python segment to decide the shipping cost based on the weight of a package and the delivery speed chosen (standard or express) using nested conditionals."
   ]
  },
  {
   "cell_type": "code",
   "execution_count": null,
   "metadata": {},
   "outputs": [],
   "source": [
    "# Get input from the user\n",
    "weight = float(input(\"Enter the weight of the package (in pounds): \"))\n",
    "delivery_speed = input(\"Choose delivery speed (standard or express): \").strip().lower()\n",
    "\n",
    "# Determine shipping cost\n",
    "if weight <= 5:\n",
    "    if delivery_speed == \"standard\":\n",
    "        cost = 5.00\n",
    "    elif delivery_speed == \"express\":\n",
    "        cost = 10.00\n",
    "    else:\n",
    "        print(\"Invalid delivery speed.\")\n",
    "        cost = None\n",
    "elif weight <= 20: \n",
    "    if delivery_speed == \"standard\":\n",
    "        cost = 10.00\n",
    "    elif delivery_speed == \"express\":\n",
    "        cost = 20.00\n",
    "    else:\n",
    "        print(\"Invalid delivery speed.\")\n",
    "        cost = None\n",
    "else:\n",
    "    if delivery_speed == \"standard\":\n",
    "        cost = 20.00\n",
    "    elif delivery_speed == \"express\":\n",
    "        cost = 40.00\n",
    "    else:\n",
    "        print(\"Invalid delivery speed.\")\n",
    "        cost = None\n",
    "\n",
    "if cost is not None:\n",
    "    print(f\"The shipping cost is: ${cost:.2f}\")"
   ]
  },
  {
   "cell_type": "markdown",
   "metadata": {},
   "source": [
    "Write a python segment to have different ticket prices for different ages, with a discount for students"
   ]
  },
  {
   "cell_type": "code",
   "execution_count": null,
   "metadata": {},
   "outputs": [],
   "source": [
    "# Get input from the user\n",
    "age = int(input(\"Enter your age: \"))\n",
    "is_student = input(\"Are you a student? (yes or no): \").strip().lower()\n",
    "\n",
    "# Determine ticket price\n",
    "if age < 13:\n",
    "    ticket_price = 8.00  # Child price\n",
    "elif 13 <= age < 65:\n",
    "    ticket_price = 12.00  # Adult price\n",
    "else:\n",
    "    ticket_price = 10.00  # Senior price\n",
    "\n",
    "# Apply student discount\n",
    "if is_student == \"yes\":\n",
    "    ticket_price *= 0.90  # 10% discount\n",
    "\n",
    "print(f\"The ticket price is: ${ticket_price:.2f}\")\n"
   ]
  },
  {
   "cell_type": "markdown",
   "metadata": {},
   "source": [
    "## Challenge Hack"
   ]
  },
  {
   "cell_type": "code",
   "execution_count": null,
   "metadata": {},
   "outputs": [],
   "source": [
    "# Function to check if the sides can form a triangle\n",
    "def is_valid_triangle(a, b, c):\n",
    "    return (a + b > c) and (a + c > b) and (b + c > a)\n",
    "\n",
    "# Get input from the user with validation\n",
    "while True:\n",
    "    try:\n",
    "        side1 = float(input(\"Enter the length of the first side (positive number): \"))\n",
    "        side2 = float(input(\"Enter the length of the second side (positive number): \"))\n",
    "        side3 = float(input(\"Enter the length of the third side (positive number): \"))\n",
    "        \n",
    "        if side1 <= 0 or side2 <= 0 or side3 <= 0:\n",
    "            print(\"Please enter positive numbers only.\")\n",
    "            continue\n",
    "        \n",
    "        break  # Exit loop if inputs are valid\n",
    "    except ValueError:\n",
    "        print(\"Invalid input. Please enter numeric values.\")\n",
    "\n",
    "# Check if the sides can form a triangle\n",
    "if is_valid_triangle(side1, side2, side3):\n",
    "    # Classify the type of triangle\n",
    "    if side1 == side2 == side3:\n",
    "        print(\"The triangle is an Equilateral Triangle.\")\n",
    "    elif side1 == side2 or side1 == side3 or side2 == side3:\n",
    "        print(\"The triangle is an Isosceles Triangle.\")\n",
    "    else:\n",
    "        print(\"The triangle is a Scalene Triangle.\")\n",
    "else:\n",
    "    print(\"The lengths entered do not form a valid triangle.\")"
   ]
  }
 ],
 "metadata": {
  "language_info": {
   "name": "python"
  }
 },
 "nbformat": 4,
 "nbformat_minor": 2
}
