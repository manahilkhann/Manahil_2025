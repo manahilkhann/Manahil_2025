{
 "cells": [
  {
   "cell_type": "raw",
   "metadata": {},
   "source": [
    "---\n",
    "layout: post\n",
    "types: hacks\n",
    "title: 3.8 Hacks!\n",
    "description: 3.8 Popcorn and Homework Hacks\n",
    "toc: true\n",
    "comments: true\n",
    "---"
   ]
  },
  {
   "cell_type": "markdown",
   "metadata": {},
   "source": [
    "## Popcorn Hack #1"
   ]
  },
  {
   "cell_type": "code",
   "execution_count": null,
   "metadata": {},
   "outputs": [],
   "source": [
    "# Ticket pricing system\n",
    "original_ticket_price = 10.00\n",
    "student_ticket_price = 8.00\n",
    "child_ticket_price = 5.00\n",
    "adult_ticket_price = 10.00\n",
    "senior_ticket_price = 7.00\n",
    "\n",
    "# Check if the user is a student\n",
    "student = input(\"Are you a student? (yes/no): \").lower()\n",
    "\n",
    "if student:\n",
    "    while True:\n",
    "        is_student = input(\"Are you a student? (yes/no): \").lower()\n",
    "        if is_student == \"yes\":\n",
    "            student_discount = 0.20  # 20% discount\n",
    "            final_price = original_ticket_price * (1 - student_discount)\n",
    "            print(f\"You are eligible for a student discount! The ticket price is now: ${final_price:.2f}\")\n",
    "            break\n",
    "        elif is_student == \"no\":\n",
    "            print(f\"Sorry! No student discount applied. The ticket price is still: ${original_ticket_price:.2f}\")\n",
    "            break\n",
    "else:\n",
    "    print('Invalid response. Please answer with \"yes\" or \"no\".')\n",
    "\n",
    "\n",
    "# Get the user's age\n",
    "age = int(input(\"Please enter your age: \"))\n",
    "\n",
    "# Determine ticket price based on age\n",
    "if age <= 12:\n",
    "    ticket_price = original_ticket_price * 0.5  # 50% off for children\n",
    "    print(f\"Child ticket price: ${ticket_price:.2f}\")\n",
    "elif age <= 63:\n",
    "    ticket_price = original_ticket_price  # Full price for adults\n",
    "    print(f\"Adult ticket price: ${ticket_price:.2f}\")\n",
    "else:\n",
    "    ticket_price = original_ticket_price * 0.7  # 30% off for seniors\n",
    "    print(f\"Senior ticket price: ${ticket_price:.2f}\")"
   ]
  },
  {
   "cell_type": "markdown",
   "metadata": {},
   "source": [
    "## Popcorn Hack #2"
   ]
  },
  {
   "cell_type": "code",
   "execution_count": null,
   "metadata": {},
   "outputs": [],
   "source": [
    "try:\n",
    "    num = int(input(\"Enter a number: \"))  # Code that might raise an exception\n",
    "    result = 10 / num  # Could raise ZeroDivisionError if num is 0\n",
    "    print(\"Result:\", result)\n",
    "except ValueError:\n",
    "    print(\"That's not a valid number!\") # error message\n",
    "except ZeroDivisionError:\n",
    "    print(\"You can't divide by zero!\")\n",
    "else:\n",
    "    # This block runs if no exception occurs\n",
    "    print(\"Operation was successful!\")\n",
    "    \n",
    "    # Check if the number is even or odd\n",
    "    if num % 2 == 0:\n",
    "        print(f\"The number {num} is even.\") # even statement\n",
    "    else:\n",
    "        print(f\"The number {num} is odd.\") # odd statement"
   ]
  },
  {
   "cell_type": "markdown",
   "metadata": {},
   "source": [
    "## Homework Hack"
   ]
  },
  {
   "cell_type": "code",
   "execution_count": null,
   "metadata": {},
   "outputs": [],
   "source": [
    "def get_positive_number():\n",
    "    while True:\n",
    "        user_input = input(\"Please enter a positive number: \") # tells user to give a positive number \n",
    "\n",
    "        try:\n",
    "            number = float(user_input)  # Attempt to convert input to a float\n",
    "            if number > 0:\n",
    "                print(f\"Success! You entered the positive number: {number}\") # success message (number is positive)\n",
    "                break  # Exit the loop if the number is positive\n",
    "            else:\n",
    "                print(\"Try again. The number must be positive.\") # try again message (not positive)\n",
    "        except ValueError:\n",
    "            print(\"Error! That's not a valid number. Please enter a numerical value.\") # error message (not valid number)\n",
    "\n",
    "# Run the function\n",
    "get_positive_number()"
   ]
  }
 ],
 "metadata": {
  "language_info": {
   "name": "python"
  }
 },
 "nbformat": 4,
 "nbformat_minor": 2
}
