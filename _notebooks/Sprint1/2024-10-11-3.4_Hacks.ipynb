{
 "cells": [
  {
   "cell_type": "raw",
   "metadata": {
    "vscode": {
     "languageId": "raw"
    }
   },
   "source": [
    "---\n",
    "layout: post\n",
    "types: hacks\n",
    "title: 3.4 Hacks!\n",
    "description: 3.4 Popcorn and Homework Hacks\n",
    "toc: true\n",
    "comments: true\n",
    "---"
   ]
  },
  {
   "cell_type": "markdown",
   "metadata": {},
   "source": [
    "## Popcorn Hack - String Analyzation"
   ]
  },
  {
   "cell_type": "code",
   "execution_count": null,
   "metadata": {},
   "outputs": [],
   "source": [
    "string = \"Coldplay is a great band!\"\n",
    "string2 = \"One of their best songs is Sparks\"\n",
    "print(\"String 1: Coldplay is a great band!\")\n",
    "length = len(string)\n",
    "print(\"Length:\", length)\n",
    "def count_vowels(input_string):\n",
    "    vowels = 'aeiouAEIOU'\n",
    "    count = 0\n",
    "    for char in input_string:\n",
    "        if char in vowels:\n",
    "            count += 1\n",
    "    return count\n",
    "print(\"Vowel Count:\", count_vowels(string))\n",
    "def average_word_length(input_string):\n",
    "    words = input_string.split()\n",
    "    if not words:\n",
    "        return 0\n",
    "    total_length = sum(len(word) for word in words)\n",
    "    average_length = total_length / len(words)\n",
    "    return average_length\n",
    "print(\"Average Word Count:\", average_word_length(string))\n",
    "print(\"String 2: One of their best songs is Sparks\")\n",
    "length2 = len(string2)\n",
    "print(\"Length:\", length2)\n",
    "print(\"Vowel Count:\", count_vowels(string2))\n",
    "print(\"Average Word Count:\", average_word_length(string2))"
   ]
  },
  {
   "cell_type": "code",
   "execution_count": null,
   "metadata": {},
   "outputs": [],
   "source": [
    "String 1: Coldplay is a great band!\n",
    "Length: 25\n",
    "Vowel Count: 7\n",
    "Average Word Count: 4.6\n",
    "String 2: One of their best songs is Sparks\n",
    "Length: 33\n",
    "Vowel Count: 9\n",
    "Average Word Count: 4.14"
   ]
  },
  {
   "cell_type": "markdown",
   "metadata": {},
   "source": [
    "## Homework Hack - Password Validator"
   ]
  },
  {
   "cell_type": "code",
   "execution_count": null,
   "metadata": {
    "vscode": {
     "languageId": "javascript"
    }
   },
   "outputs": [],
   "source": [
    "function passwordValidator(password) {\n",
    "    if (password.length < 8) {\n",
    "        return \"Password is too short. Must be at least 8 characters.\"; \n",
    "    }\n",
    "\n",
    "    if (password === password.toLowerCase() || password === password.toUpperCase()) {\n",
    "        return \"Password must contain both uppercase and lowercase letters.\";\n",
    "    }\n",
    "\n",
    "    if (!/[0-9]/.test(password)) {\n",
    "        return \"Password must contain at least one number.\";\n",
    "    }\n",
    "\n",
    "    // Joining words with (.) and (-)\n",
    "    \n",
    "    const words = password.split(\" \");\n",
    "    const customizedPassword = words.join(\"-\");\n",
    "\n",
    "    return `Password is valid! Here’s a fun version: ${customizedPassword}`;\n",
    "}\n",
    "\n",
    "// Valid password\n",
    "const password = \"CompSci123\"; \n",
    "console.log(passwordValidator(password));"
   ]
  }
 ],
 "metadata": {
  "language_info": {
   "name": "python"
  }
 },
 "nbformat": 4,
 "nbformat_minor": 2
}
