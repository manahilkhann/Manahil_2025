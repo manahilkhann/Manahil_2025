{
 "cells": [
  {
   "cell_type": "raw",
   "metadata": {
    "vscode": {
     "languageId": "raw"
    }
   },
   "source": [
    "---\n",
    "layout: post\n",
    "types: hacks\n",
    "title: 3.3 Hacks!\n",
    "description: 3.3 Popcorn and Homework Hacks\n",
    "toc: true\n",
    "comments: true\n",
    "permalink: /3-3/hacks\n",
    "---"
   ]
  },
  {
   "cell_type": "markdown",
   "metadata": {},
   "source": [
    "## Popcorn Hack #1\n",
    "Writing a function that will output a y value for y = 4(x+2)-8 when given an input of an x value."
   ]
  },
  {
   "cell_type": "code",
   "execution_count": null,
   "metadata": {},
   "outputs": [],
   "source": [
    "# Defines the function\n",
    "def output(x):\n",
    "    # Prints the output by first performing x plus 2, then that value multiplied by 4 and finally subtracting 8 from that answer.\n",
    "    print(4 * (x + 2) - 8)"
   ]
  },
  {
   "cell_type": "markdown",
   "metadata": {},
   "source": [
    "## Popcorn Hack #2\n",
    "Finding the value of `number4`"
   ]
  },
  {
   "cell_type": "code",
   "execution_count": null,
   "metadata": {},
   "outputs": [],
   "source": [
    "number1 = 8\n",
    "number2 = 3\n",
    "number3 = number1 % number2 # 8/3 remainder is 2 so number3 = 2\n",
    "number4 = number3 * number1 + 70 # 2 x 8 + 70\n",
    "print(number4) # Output will be 86"
   ]
  },
  {
   "cell_type": "markdown",
   "metadata": {},
   "source": [
    "## Popcorn Hack #3\n",
    "Checking if a list of numbers is divisible by 3."
   ]
  },
  {
   "cell_type": "code",
   "execution_count": null,
   "metadata": {},
   "outputs": [],
   "source": [
    "# List of numbers\n",
    "numbers = [12, 5, 19, 21]\n",
    "\n",
    "# For loop that will run through every number in the list of numbers.\n",
    "for num in numbers:\n",
    "    # Creates a variable which stores the modulus of each number when divided by 3.\n",
    "    remainder = num % 3\n",
    "    # Checks to see if the modulus is 0 meaning there is no remainder when divided.\n",
    "    if remainder == 0:\n",
    "        # Prints that the number is divisible if there is no remainder.\n",
    "        print(num, \"is divisible by 3\")\n",
    "    # Runs if the remainder is anything other than 0.\n",
    "    else:\n",
    "        # Prints that the remainder when divided by 3 is whatever the modulus was stored as.\n",
    "        print(\"The remainder when\", num, \"is divided by 3 is\", remainder)"
   ]
  },
  {
   "cell_type": "markdown",
   "metadata": {},
   "source": [
    "## Homework Hack"
   ]
  },
  {
   "cell_type": "code",
   "execution_count": null,
   "metadata": {},
   "outputs": [],
   "source": [
    "def fibonacci(n):\n",
    "    if n <= 0:\n",
    "        return \"Invalid input. Please enter a positive integer.\" # needs to be greater than 0\n",
    "    elif n == 1:\n",
    "        return 0\n",
    "    elif n == 2:\n",
    "        return 1\n",
    "    else:\n",
    "        a, b = 0, 1\n",
    "        for _ in range(2, n):\n",
    "            a, b = b, a + b\n",
    "        return b\n",
    "import math\n",
    "\n",
    "def calculate_area():\n",
    "    shape = input(\"Enter the shape (circle, square, rectangle): \").strip().lower()\n",
    "\n",
    "    if shape == \"circle\":\n",
    "        radius = float(input(\"Enter the radius of the circle: \"))\n",
    "        area = math.pi * (radius ** 2) # equation for area\n",
    "        print(f\"The area of the circle is: {area:.2f}\")\n",
    "\n",
    "    elif shape == \"square\":\n",
    "        side = float(input(\"Enter the length of a side of the square: \"))\n",
    "        area = side ** 2 # equation for side length\n",
    "        print(f\"The area of the square is: {area:.2f}\")\n",
    "\n",
    "    elif shape == \"rectangle\":\n",
    "        length = float(input(\"Enter the length of the rectangle: \"))\n",
    "        width = float(input(\"Enter the width of the rectangle: \"))\n",
    "        area = length * width # equation for area\n",
    "        print(f\"The area of the rectangle is: {area:.2f}\")\n",
    "\n",
    "    else:\n",
    "        print(\"Invalid shape. Please enter 'circle', 'square', or 'rectangle'.\")\n",
    "def main():\n",
    "    # Get Fibonacci term input\n",
    "    term = int(input(\"Enter the term number in the Fibonacci sequence: \"))\n",
    "    fib_value = fibonacci(term)\n",
    "    print(f\"The {term} term in the Fibonacci sequence is: {fib_value}\")\n",
    "\n",
    "    # Calculate area of a shape\n",
    "    calculate_area()\n",
    "\n",
    "# Call the main function\n",
    "if __name__ == \"__main__\":\n",
    "    main()"
   ]
  },
  {
   "cell_type": "markdown",
   "metadata": {},
   "source": [
    "## Challenge"
   ]
  },
  {
   "cell_type": "code",
   "execution_count": null,
   "metadata": {},
   "outputs": [],
   "source": [
    "# Function to calculate volume of different shapes\n",
    "def calculate_volume():\n",
    "    shape = input(\"Enter the shape for volume calculation (rectangular prism, sphere, pyramid): \").strip().lower()\n",
    "\n",
    "    if shape == \"rectangular prism\":\n",
    "        base = float(input(\"Enter the base of the prism: \"))\n",
    "        width = float(input(\"Enter the width of the prism: \"))\n",
    "        height = float(input(\"Enter the height of the prism: \"))\n",
    "        volume = base * width * height\n",
    "        print(f\"The volume of the rectangular prism is: {volume:.2f}\")\n",
    "\n",
    "    elif shape == \"sphere\":\n",
    "        radius = float(input(\"Enter the radius of the sphere: \"))\n",
    "        volume = (4/3) * math.pi * (radius ** 3)\n",
    "        print(f\"The volume of the sphere is: {volume:.2f}\")\n",
    "\n",
    "    elif shape == \"pyramid\":\n",
    "        base = float(input(\"Enter the base of the pyramid: \"))\n",
    "        width = float(input(\"Enter the width of the pyramid: \"))\n",
    "        height = float(input(\"Enter the height of the pyramid: \"))\n",
    "        volume = (1/3) * base * width * height\n",
    "        print(f\"The volume of the pyramid is: {volume:.2f}\")\n",
    "\n",
    "    else:\n",
    "        print(\"Invalid shape. Please enter 'rectangular prism', 'sphere', or 'pyramid'.\")\n"
   ]
  }
 ],
 "metadata": {
  "language_info": {
   "name": "python"
  }
 },
 "nbformat": 4,
 "nbformat_minor": 2
}
