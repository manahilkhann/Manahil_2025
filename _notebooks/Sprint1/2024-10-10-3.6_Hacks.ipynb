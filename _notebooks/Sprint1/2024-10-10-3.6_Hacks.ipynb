{
 "cells": [
  {
   "cell_type": "raw",
   "metadata": {
    "vscode": {
     "languageId": "raw"
    }
   },
   "source": [
    "---\n",
    "layout: post\n",
    "types: hacks\n",
    "title: 3.6 Hacks!\n",
    "description: 3.6 Popcorn and Homework Hacks\n",
    "toc: true\n",
    "comments: true\n",
    "permalink: /3-6/hacks\n",
    "---"
   ]
  },
  {
   "cell_type": "markdown",
   "metadata": {},
   "source": [
    "## Popcorn Hack #1"
   ]
  },
  {
   "cell_type": "code",
   "execution_count": null,
   "metadata": {},
   "outputs": [],
   "source": [
    "age = input(\"age: \") # variable that represents age\n",
    "if int(age) >= 18: # ‘if’ and ‘print’ function that says “You are an adult” if your age is greater than or equal to 18.\n",
    "    print(\"Adult\") \n",
    "else:\n",
    "    print(\"Minor\") # else statement tells user they are a minor"
   ]
  },
  {
   "cell_type": "markdown",
   "metadata": {},
   "source": [
    "## Popcorn Hack #2"
   ]
  },
  {
   "cell_type": "code",
   "execution_count": null,
   "metadata": {},
   "outputs": [],
   "source": [
    "is_raining = True \n",
    "if is_raining:\n",
    "    print(\"Bring a umbrella\")\n",
    "else:\n",
    "    print(\"The weather is clear\")"
   ]
  },
  {
   "cell_type": "markdown",
   "metadata": {},
   "source": [
    "## Popcorn Hack #3"
   ]
  },
  {
   "cell_type": "code",
   "execution_count": null,
   "metadata": {},
   "outputs": [],
   "source": [
    "import random\n",
    "\n",
    "\n",
    "a = random.randint(0,100)\n",
    "b = random.randint(0,100)\n",
    "print(a, b)\n",
    "\n",
    "if a > b:\n",
    "    print( str(a) + \" > \" + str(b) )\n",
    "elif a < b: \n",
    "    print( str(a) + \" < \" + str(b) )\n",
    "else:\n",
    "    print( str(a) + \" = \" + str(b) )\n"
   ]
  },
  {
   "cell_type": "markdown",
   "metadata": {},
   "source": [
    "## Homework Hack\n",
    "Write a Python program that takes two numbers as input from the user. The program should:\n",
    "\n",
    "Determine if the numbers are equal.\n",
    "If the numbers are different, print which number is larger."
   ]
  },
  {
   "cell_type": "code",
   "execution_count": null,
   "metadata": {},
   "outputs": [],
   "source": [
    "# Get input from the user\n",
    "num1 = float(input(\"Enter the first number: \"))\n",
    "num2 = float(input(\"Enter the second number: \"))\n",
    "\n",
    "# Compare the numbers\n",
    "if num1 == num2:\n",
    "    print(\"The numbers are equal.\")\n",
    "else:\n",
    "    if num1 > num2:\n",
    "        print(f\"The larger number is: {num1}\")\n",
    "    else:\n",
    "        print(f\"The larger number is: {num2}\")"
   ]
  }
 ],
 "metadata": {
  "language_info": {
   "name": "python"
  }
 },
 "nbformat": 4,
 "nbformat_minor": 2
}
