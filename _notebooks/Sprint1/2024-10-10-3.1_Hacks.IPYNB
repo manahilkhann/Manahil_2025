{
 "cells": [
  {
   "cell_type": "raw",
   "metadata": {
    "vscode": {
     "languageId": "raw"
    }
   },
   "source": [
    "---\n",
    "layout: post\n",
    "types: hacks\n",
    "title: 3.1 Hacks!\n",
    "description: 3.1 Popcorn and Homework Hacks\n",
    "toc: true\n",
    "comments: true\n",
    "---"
   ]
  },
  {
   "cell_type": "markdown",
   "metadata": {},
   "source": [
    "## Popcorn Hack"
   ]
  },
  {
   "cell_type": "code",
   "execution_count": 1,
   "metadata": {},
   "outputs": [
    {
     "name": "stdout",
     "output_type": "stream",
     "text": [
      "['', '', 'pizza', 'Designer']\n",
      "{'', 'pizza', 'Designer'}\n",
      "Hi my name is , I'm ingrade, my favorite subject ispizza , and my dream job isDesigner\n"
     ]
    }
   ],
   "source": [
    "# python version\n",
    "var1 = input(\"What is your name?:\")\n",
    "var2 = input(\"What grade are you in?:\")\n",
    "var3 = input(\"What is your favorite subject?:\")\n",
    "var4 = input(\"What is your dream job?:\")\n",
    "\n",
    "my_list = [var1, var2, var3, var4]\n",
    "\n",
    "my_dict = {\n",
    "    var1,\n",
    "    var2,\n",
    "    var3,\n",
    "    var4\n",
    "}\n",
    "\n",
    "print(my_list)\n",
    "print(my_dict)\n",
    "\n",
    "print(\"Hi my name is \" + var1 + \", I'm in\" +  var2 + \"grade\" + \", my favorite subject is\" + var3, \", and my dream job is\" + var4)"
   ]
  },
  {
   "cell_type": "code",
   "execution_count": 2,
   "metadata": {
    "vscode": {
     "languageId": "javascript"
    }
   },
   "outputs": [
    {
     "data": {
      "application/javascript": "// javascript version\nconst var1 = prompt(\"What is your name?:\");\nconst var2 = prompt(\"What grade are you in?:\");\nconst var3 = prompt(\"What is your favorite subject?:\");\nconst var4 = prompt(\"What is your dream job?:\");\n\n\nconst myList = [var1, var2, var3, var4];\nconsole.log(myList);\n\n\nconst myDict = {\n    name: var1,\n    grade: var2,\n    favoriteSubject: var3,\n    dreamJob: var4,\n};\nconsole.log(myDict);\n\n\nconsole.log(\"Hi my name is \" + var1 + \", I'm in\" +  var2 + \"grade\" + \", my favorite subject is\" + var3, \", and my dream job is\" + var4 + \".\");\n",
      "text/plain": [
       "<IPython.core.display.Javascript object>"
      ]
     },
     "metadata": {},
     "output_type": "display_data"
    }
   ],
   "source": [
    "%%js \n",
    "// javascript version\n",
    "const var1 = prompt(\"What is your name?:\");\n",
    "const var2 = prompt(\"What grade are you in?:\");\n",
    "const var3 = prompt(\"What is your favorite subject?:\");\n",
    "const var4 = prompt(\"What is your dream job?:\");\n",
    "\n",
    "\n",
    "const myList = [var1, var2, var3, var4];\n",
    "console.log(myList);\n",
    "\n",
    "\n",
    "const myDict = {\n",
    "    name: var1,\n",
    "    grade: var2,\n",
    "    favoriteSubject: var3,\n",
    "    dreamJob: var4,\n",
    "};\n",
    "console.log(myDict);\n",
    "\n",
    "\n",
    "console.log(\"Hi my name is \" + var1 + \", I'm in\" +  var2 + \"grade\" + \", my favorite subject is\" + var3, \", and my dream job is\" + var4 + \".\");"
   ]
  },
  {
   "cell_type": "markdown",
   "metadata": {},
   "source": [
    "## Homework Hack"
   ]
  },
  {
   "cell_type": "code",
   "execution_count": 3,
   "metadata": {
    "vscode": {
     "languageId": "javascript"
    }
   },
   "outputs": [
    {
     "ename": "SyntaxError",
     "evalue": "invalid syntax (652701834.py, line 1)",
     "output_type": "error",
     "traceback": [
      "\u001b[0;36m  Cell \u001b[0;32mIn[3], line 1\u001b[0;36m\u001b[0m\n\u001b[0;31m    class UserProfile {\u001b[0m\n\u001b[0m                      ^\u001b[0m\n\u001b[0;31mSyntaxError\u001b[0m\u001b[0;31m:\u001b[0m invalid syntax\n"
     ]
    }
   ],
   "source": [
    "class UserProfile {\n",
    "    constructor(John Doe, 28, john.doe@gmail.com, Food Tasting, Vegan) {\n",
    "        this.fullName = John Doe;\n",
    "        this.age = 28;\n",
    "        this.email = john.doe@gmail.com;\n",
    "        this.hobby = Food Tasting;\n",
    "        this.dietaryPreferences = Vegan;\n",
    "        this.uniqueID = JD28;\n",
    "    }\n",
    "\n",
    "    // Unique ID generation method\n",
    "    generateUniqueID(JD28) {\n",
    "        const timestamp = Date.now().toString(36); // Convert timestamp to base-36\n",
    "        const randomNum = Math.floor(Math.random() * 1000).toString(36); // Random number in base-36\n",
    "        return `${this.fullName.split(' ').join('').toUpperCase()}${timestamp}${randomNum}`;\n",
    "    }\n",
    "\n",
    "    // Method to display profile information\n",
    "    displayProfile() {\n",
    "        console.log(\"User Profile Details:\");\n",
    "        console.log(`Full Name: ${this.fullName}`);\n",
    "        console.log(`Age: ${this.age}`);\n",
    "        console.log(`Email: ${this.email}`);\n",
    "        console.log(`Hobby: ${this.hobby}`);\n",
    "        console.log(`Dietary Preferences: ${this.dietaryPreferences}`);\n",
    "        console.log(`Unique ID: ${this.uniqueID}`);\n",
    "    }\n",
    "}\n",
    "\n",
    "// Create a user profile with the provided information\n",
    "const userProfile = new UserProfile(\n",
    "    \"John Doe\",\n",
    "    28,\n",
    "    \"john.doe@gmail.com\",\n",
    "    \"Food Tasting\",\n",
    "    \"Vegan\"\n",
    ");\n",
    "\n",
    "// Display the user profile\n",
    "userProfile.displayProfile();"
   ]
  }
 ],
 "metadata": {
  "kernelspec": {
   "display_name": "venv",
   "language": "python",
   "name": "python3"
  },
  "language_info": {
   "codemirror_mode": {
    "name": "ipython",
    "version": 3
   },
   "file_extension": ".py",
   "mimetype": "text/x-python",
   "name": "python",
   "nbconvert_exporter": "python",
   "pygments_lexer": "ipython3",
   "version": "3.12.6"
  }
 },
 "nbformat": 4,
 "nbformat_minor": 2
}
