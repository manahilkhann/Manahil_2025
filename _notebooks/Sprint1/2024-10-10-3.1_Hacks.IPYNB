{
 "cells": [
  {
   "cell_type": "raw",
   "metadata": {
    "vscode": {
     "languageId": "raw"
    }
   },
   "source": [
    "---\n",
    "layout: post\n",
    "types: hacks\n",
    "title: 3.1 Hacks!\n",
    "description: 3.1 Popcorn and Homework Hacks\n",
    "toc: true\n",
    "comments: true\n",
    "permalink: /3-1/hacks\n",
    "---"
   ]
  },
  {
   "cell_type": "markdown",
   "metadata": {},
   "source": [
    "## Popcorn Hack"
   ]
  },
  {
   "cell_type": "code",
   "execution_count": null,
   "metadata": {},
   "outputs": [],
   "source": [
    "# python version\n",
    "var1 = input(\"What is your name?:\")\n",
    "var2 = input(\"What grade are you in?:\")\n",
    "var3 = input(\"What is your favorite subject?:\")\n",
    "var4 = input(\"What is your dream job?:\")\n",
    "\n",
    "my_list = [var1, var2, var3, var4]\n",
    "\n",
    "my_dict = {\n",
    "    var1,\n",
    "    var2,\n",
    "    var3,\n",
    "    var4\n",
    "}\n",
    "\n",
    "print(my_list)\n",
    "print(my_dict)\n",
    "\n",
    "print(\"Hi my name is \" + var1 + \", I'm in\" +  var2 + \"grade\" + \", my favorite subject is\" + var3, \", and my dream job is\" + var4)"
   ]
  },
  {
   "cell_type": "code",
   "execution_count": 2,
   "metadata": {
    "vscode": {
     "languageId": "javascript"
    }
   },
   "outputs": [
    {
     "data": {
      "application/javascript": "// javascript version\nconst var1 = prompt(\"What is your name?:\");\nconst var2 = prompt(\"What grade are you in?:\");\nconst var3 = prompt(\"What is your favorite subject?:\");\nconst var4 = prompt(\"What is your dream job?:\");\n\n\nconst myList = [var1, var2, var3, var4];\nconsole.log(myList);\n\n\nconst myDict = {\n    name: var1,\n    grade: var2,\n    favoriteSubject: var3,\n    dreamJob: var4,\n};\nconsole.log(myDict);\n\n\nconsole.log(\"Hi my name is \" + var1 + \", I'm in\" +  var2 + \"grade\" + \", my favorite subject is\" + var3, \", and my dream job is\" + var4 + \".\");\n",
      "text/plain": [
       "<IPython.core.display.Javascript object>"
      ]
     },
     "metadata": {},
     "output_type": "display_data"
    }
   ],
   "source": [
    "%%js \n",
    "// javascript version\n",
    "const var1 = prompt(\"What is your name?:\");\n",
    "const var2 = prompt(\"What grade are you in?:\");\n",
    "const var3 = prompt(\"What is your favorite subject?:\");\n",
    "const var4 = prompt(\"What is your dream job?:\");\n",
    "\n",
    "\n",
    "const myList = [var1, var2, var3, var4];\n",
    "console.log(myList);\n",
    "\n",
    "\n",
    "const myDict = {\n",
    "    name: var1,\n",
    "    grade: var2,\n",
    "    favoriteSubject: var3,\n",
    "    dreamJob: var4,\n",
    "};\n",
    "console.log(myDict);\n",
    "\n",
    "\n",
    "console.log(\"Hi my name is \" + var1 + \", I'm in\" +  var2 + \"grade\" + \", my favorite subject is\" + var3, \", and my dream job is\" + var4 + \".\");"
   ]
  },
  {
   "cell_type": "markdown",
   "metadata": {},
   "source": [
    "## Homework Hack"
   ]
  },
  {
   "cell_type": "code",
   "execution_count": 26,
   "metadata": {
    "vscode": {
     "languageId": "javascript"
    }
   },
   "outputs": [
    {
     "data": {
      "application/javascript": "let full_name = \"John Doe\"\nlet age = 28\nlet email = \"john.doe@gmail.com\"\nlet hobby = \"Food Tasting\"\nlet dietary_preferences = \"Vegan\"\n\nlet initials = full_name[0] + full_name[-1] \nlet unique_id = initials + age\n\nlet formatted_info = \"Personal Info:\\n\" +\n                 \"- Full Name: \" + full_name + \"\\n\" +\n                 \"- Age: \" + age + \"\\n\" +\n                 \"- Email: \" + email + \"\\n\" +\n                 \"- Hobby: \" + hobby + \"\\n\" +\n                 \"- Dietary Preferences: \" + dietary_preferences + \"\\n\" +\n                 \"- Unique ID: \" + unique_id\n\nconsole.log(formatted_info)\n",
      "text/plain": [
       "<IPython.core.display.Javascript object>"
      ]
     },
     "metadata": {},
     "output_type": "display_data"
    }
   ],
   "source": [
    "%%js\n",
    "let full_name = \"John Doe\"\n",
    "let age = 28\n",
    "let email = \"john.doe@gmail.com\"\n",
    "let hobby = \"Food Tasting\"\n",
    "let dietary_preferences = \"Vegan\"\n",
    "\n",
    "let initials = full_name[0] + full_name[-1] \n",
    "let unique_id = initials + age\n",
    "\n",
    "let formatted_info = \"Personal Info:\\n\" +\n",
    "                 \"- Full Name: \" + full_name + \"\\n\" +\n",
    "                 \"- Age: \" + age + \"\\n\" +\n",
    "                 \"- Email: \" + email + \"\\n\" +\n",
    "                 \"- Hobby: \" + hobby + \"\\n\" +\n",
    "                 \"- Dietary Preferences: \" + dietary_preferences + \"\\n\" +\n",
    "                 \"- Unique ID: \" + unique_id\n",
    "\n",
    "console.log(formatted_info)"
   ]
  }
 ],
 "metadata": {
  "kernelspec": {
   "display_name": "venv",
   "language": "python",
   "name": "python3"
  },
  "language_info": {
   "codemirror_mode": {
    "name": "ipython",
    "version": 3
   },
   "file_extension": ".py",
   "mimetype": "text/x-python",
   "name": "python",
   "nbconvert_exporter": "python",
   "pygments_lexer": "ipython3",
   "version": "3.12.6"
  }
 },
 "nbformat": 4,
 "nbformat_minor": 2
}
