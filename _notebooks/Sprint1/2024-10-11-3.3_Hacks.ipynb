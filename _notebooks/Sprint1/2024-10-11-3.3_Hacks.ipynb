{
 "cells": [
  {
   "cell_type": "raw",
   "metadata": {
    "vscode": {
     "languageId": "raw"
    }
   },
   "source": [
    "---\n",
    "layout: post\n",
    "types: hacks\n",
    "title: 3.3 Hacks!\n",
    "description: 3.3 Popcorn and Homework Hacks\n",
    "toc: true\n",
    "comments: true\n",
    "---"
   ]
  },
  {
   "cell_type": "markdown",
   "metadata": {},
   "source": [
    "## Popcorn Hack #1\n",
    "Writing a function that will output a y value for y = 4(x+2)-8 when given an input of an x value."
   ]
  },
  {
   "cell_type": "code",
   "execution_count": null,
   "metadata": {},
   "outputs": [],
   "source": [
    "# Defines the function\n",
    "def output(x):\n",
    "    # Prints the output by first performing x plus 2, then that value multiplied by 4 and finally subtracting 8 from that answer.\n",
    "    print(4 * (x + 2) - 8)"
   ]
  },
  {
   "cell_type": "markdown",
   "metadata": {},
   "source": [
    "## Popcorn Hack #2\n",
    "Finding the value of `number4`"
   ]
  },
  {
   "cell_type": "code",
   "execution_count": null,
   "metadata": {},
   "outputs": [],
   "source": [
    "number1 = 8\n",
    "number2 = 3\n",
    "number3 = number1 % number2 # 8/3 remainder is 2 so number3 = 2\n",
    "number4 = number3 * number1 + 70 # 2 x 8 + 70\n",
    "print(number4) # Output will be 86"
   ]
  },
  {
   "cell_type": "markdown",
   "metadata": {},
   "source": [
    "## Popcorn Hack #3\n",
    "Checking if a list of numbers is divisible by 3."
   ]
  },
  {
   "cell_type": "code",
   "execution_count": null,
   "metadata": {},
   "outputs": [],
   "source": [
    "# List of numbers\n",
    "numbers = [12, 5, 19, 21]\n",
    "\n",
    "# For loop that will run through every number in the list of numbers.\n",
    "for num in numbers:\n",
    "    # Creates a variable which stores the modulus of each number when divided by 3.\n",
    "    remainder = num % 3\n",
    "    # Checks to see if the modulus is 0 meaning there is no remainder when divided.\n",
    "    if remainder == 0:\n",
    "        # Prints that the number is divisible if there is no remainder.\n",
    "        print(num, \"is divisible by 3\")\n",
    "    # Runs if the remainder is anything other than 0.\n",
    "    else:\n",
    "        # Prints that the remainder when divided by 3 is whatever the modulus was stored as.\n",
    "        print(\"The remainder when\", num, \"is divided by 3 is\", remainder)"
   ]
  },
  {
   "cell_type": "markdown",
   "metadata": {},
   "source": [
    "## Homework Hack"
   ]
  }
 ],
 "metadata": {
  "language_info": {
   "name": "python"
  }
 },
 "nbformat": 4,
 "nbformat_minor": 2
}
