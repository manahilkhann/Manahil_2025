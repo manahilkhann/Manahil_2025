{
 "cells": [
  {
   "cell_type": "raw",
   "metadata": {
    "vscode": {
     "languageId": "raw"
    }
   },
   "source": [
    "---\n",
    "layout: post\n",
    "types: hacks\n",
    "title: 3.5 Hacks!\n",
    "description: 3.5 Popcorn and Homework Hacks\n",
    "toc: true\n",
    "comments: true\n",
    "permalink: /3-5/hacks\n",
    "---"
   ]
  },
  {
   "cell_type": "markdown",
   "metadata": {},
   "source": [
    "## Popcorn Hack #1"
   ]
  },
  {
   "cell_type": "code",
   "execution_count": null,
   "metadata": {},
   "outputs": [],
   "source": [
    "# Function to check if a boolean is true\n",
    "def check_boolean(value):\n",
    "    if value:\n",
    "        print(\"The boolean is True.\")\n",
    "    else:\n",
    "        print(\"The boolean is False.\")\n",
    "\n",
    "# Input from the user\n",
    "user_input = input(\"Enter a boolean value (True or False): \").strip().lower()\n",
    "\n",
    "# Convert input to a boolean\n",
    "if user_input == 'true':\n",
    "    check_boolean(True)\n",
    "elif user_input == 'false':\n",
    "    check_boolean(False)\n",
    "else:\n",
    "    print(\"Invalid input. Please enter 'True' or 'False'.\")"
   ]
  },
  {
   "cell_type": "code",
   "execution_count": null,
   "metadata": {},
   "outputs": [],
   "source": [
    "variableA = True\n",
    "variableB = False\n",
    "\n",
    "if variableA:\n",
    "    print(\"VariableA is true!\")\n",
    "else:\n",
    "    print(\"VariableA is false!\")\n",
    "\n",
    "if variableA and not variableB:\n",
    "    print(\"VariableA is true and Variable B is false\")\n",
    "\n",
    "if variableA or variableB:\n",
    "    print(\"Either variableA or variableB is true\")    "
   ]
  },
  {
   "cell_type": "markdown",
   "metadata": {},
   "source": [
    "## Popcorn Hack #2"
   ]
  },
  {
   "cell_type": "code",
   "execution_count": null,
   "metadata": {},
   "outputs": [],
   "source": [
    "if number > 10:\n",
    "    print(\"number is greater than ten!\")\n",
    "else:\n",
    "    print(\"number is not greater than ten!\")"
   ]
  },
  {
   "cell_type": "markdown",
   "metadata": {},
   "source": [
    "## Popcorn Hack #3"
   ]
  },
  {
   "cell_type": "code",
   "execution_count": null,
   "metadata": {},
   "outputs": [],
   "source": [
    "if number >= 100 and number <= 999:\n",
    "    print(\"number is three digits!\")\n",
    "else:\n",
    "    print(\"number is not three digits!\")"
   ]
  },
  {
   "cell_type": "markdown",
   "metadata": {},
   "source": [
    "## Homework Hack"
   ]
  },
  {
   "cell_type": "code",
   "execution_count": null,
   "metadata": {},
   "outputs": [],
   "source": [
    "def truth_table():\n",
    "    print(\"A\\tB\\tA AND B\\tA OR B\\tNOT A\\tNOT B\")\n",
    "    print(\"-\" * 40)\n",
    "    \n",
    "    # Iterate through all combinations of True (1) and False (0)\n",
    "    for A in [True, False]:\n",
    "        for B in [True, False]:\n",
    "            A_and_B = A and B\n",
    "            A_or_B = A or B\n",
    "            not_A = not A\n",
    "            not_B = not B\n",
    "            \n",
    "            # Print the results\n",
    "            print(f\"{A}\\t{B}\\t{A_and_B}\\t\\t{A_or_B}\\t\\t{not_A}\\t{not_B}\")\n",
    "\n",
    "# Call the function to display the truth table\n",
    "truth_table()"
   ]
  },
  {
   "cell_type": "markdown",
   "metadata": {},
   "source": [
    "Output:\n",
    "A\tB\tNOT (A AND B)\tNOT A OR NOT B\tNOT (A OR B)\tNOT A AND NOT B\n",
    "------------------------------------------------------------\n",
    "True\tTrue\tFalse\t\tFalse\t\tFalse\t\tFalse\n",
    "True\tFalse\tTrue\t\tTrue\t\tFalse\t\tFalse\n",
    "False\tTrue\tTrue\t\tTrue\t\tFalse\t\tFalse\n",
    "False\tFalse\tTrue\t\tTrue\t\tTrue\t\tTrue"
   ]
  }
 ],
 "metadata": {
  "language_info": {
   "name": "python"
  }
 },
 "nbformat": 4,
 "nbformat_minor": 2
}
