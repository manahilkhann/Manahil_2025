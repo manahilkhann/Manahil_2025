{
 "cells": [
  {
   "cell_type": "markdown",
   "metadata": {},
   "source": [
    "## Popcorn Hack 1"
   ]
  },
  {
   "cell_type": "code",
   "execution_count": null,
   "metadata": {},
   "outputs": [],
   "source": [
    "# Define a dictionary with movies  categorized by genre\n",
    "movies = {\n",
    "    \"Romance\": [\"The Notebook\", \"10 Things I Hate About You\", \"To All The Boys I've Loved Before\"],\n",
    "    \"Comedy\": [\"Superbad\", \"Grown Ups\", \"White Chicks\"],\n",
    "    \"Action\": [\"The Avengers\", \"Deadpool\", \"John Wick\"],\n",
    "    \"Horror\": [\"Annabelle\", \"Scream\", \"IT\"]\n",
    "}\n",
    "\n",
    "# Function to print the list of movies by genre\n",
    "def print_movies(movies):\n",
    "    for category, items in movies.items():\n",
    "        print(f\"\\n{category}:\")\n",
    "        for item in items:\n",
    "            print(f\" - {item}\")\n",
    "\n",
    "# Call the function to display movies\n",
    "print_movies(movies)"
   ]
  },
  {
   "cell_type": "markdown",
   "metadata": {},
   "source": [
    "## Popcorn Hack 2"
   ]
  },
  {
   "cell_type": "code",
   "execution_count": null,
   "metadata": {},
   "outputs": [],
   "source": [
    "sprints = {\n",
    "    'Sprint1': ['Snake Game', 'Cookie Clicker', 'Mario'],\n",
    "    'Sprint2': ['Big Ideas 3.10']\n",
    "}\n",
    "\n",
    "print(sprints['Sprint1'])\n",
    "if \"Snake Game\" in sprints['Sprint1']:\n",
    "    print(True) \n",
    "else:\n",
    "    print(False)\n",
    "\n",
    "# Output:\n",
    "# ['Snake Game', 'Cookie Clicker', 'Mario']\n",
    "# True"
   ]
  },
  {
   "cell_type": "markdown",
   "metadata": {},
   "source": [
    "## Popcorn Hack 3"
   ]
  },
  {
   "cell_type": "code",
   "execution_count": null,
   "metadata": {},
   "outputs": [],
   "source": [
    "# List of songs in an album\n",
    "album = [\n",
    "    {\n",
    "        \"title\": \"Young Girls\",\n",
    "        \"artist\": \"Bruno Mars\",\n",
    "        \"duration\": \"3:48\",\n",
    "    },\n",
    "    {\n",
    "        \"title\": \"Locked out of Heaven\",\n",
    "        \"artist\": \"Bruno Mars\",\n",
    "        \"duration\": \"3:53\",\n",
    "    },\n",
    "    {\n",
    "        \"title\": \"Gorilla\",\n",
    "        \"artist\": \"Bruno Mars\",\n",
    "        \"duration\": \"4:04\",\n",
    "    }\n",
    "    {\n",
    "        \"title\": \"Treasure\",\n",
    "        \"artist\": \"Bruno Mars\",\n",
    "        \"duration\": \"2:58\",\n",
    "    },\n",
    "    {\n",
    "        \"title\": \"Moonshine\",\n",
    "        \"artist\": \"Bruno Mars\",\n",
    "        \"duration\": \"3:48\",\n",
    "    },\n",
    "    {\n",
    "        \"title\": \"When I Was Your Man\",\n",
    "        \"artist\": \"Bruno Mars\",\n",
    "        \"duration\": \"3:33\",\n",
    "    },\n",
    "    {\n",
    "        \"title\": \"Natalie\",\n",
    "        \"artist\": \"Bruno Mars\",\n",
    "        \"duration\": \"3:45\",\n",
    "    },\n",
    "    {\n",
    "        \"title\": \"Show Me\",\n",
    "        \"artist\": \"Bruno Mars\",\n",
    "        \"duration\": \"3:27\",\n",
    "    },\n",
    "    {\n",
    "        \"title\": \"Money Make Her Smile\",\n",
    "        \"artist\": \"Bruno Mars\",\n",
    "        \"duration\": \"3:23\",\n",
    "    },\n",
    "    {\n",
    "        \"title\": \"If I Knew\",\n",
    "        \"artist\": \"Bruno Mars\",\n",
    "        \"duration\": \"2:12\",\n",
    "    },\n",
    "]\n",
    "\n",
    "# Display information about each song in the album\n",
    "for song in album:\n",
    "    print(f\"Title: {song['title']}\")\n",
    "    print(f\"Artist: {song['artist']}\")\n",
    "    print(f\"Duration: {song['duration']}\")\n",
    "    print(\"\\n\")"
   ]
  },
  {
   "cell_type": "markdown",
   "metadata": {},
   "source": [
    "## Homework Hack"
   ]
  },
  {
   "cell_type": "code",
   "execution_count": null,
   "metadata": {},
   "outputs": [],
   "source": [
    "romance = [\"The Notebook\", \"10 Things I Hate About You\", \"To All The Boys I've Loved Before\"]\n",
    "print(romance)\n",
    "\n",
    "comedy = [\"Superbad\", \"Grown Ups\", \"White Chicks\"]\n",
    "print(comedy)\n",
    "\n",
    "action = [\"The Avengers\", \"Deadpool\", \"John Wick\"]\n",
    "print(action)\n",
    "\n",
    "horror = [\"Annabelle\", \"Scream\", \"IT\"]\n",
    "print(horror)"
   ]
  }
 ],
 "metadata": {
  "language_info": {
   "name": "python"
  }
 },
 "nbformat": 4,
 "nbformat_minor": 2
}
